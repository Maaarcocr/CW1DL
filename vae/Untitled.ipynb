{
  "nbformat": 4,
  "nbformat_minor": 0,
  "metadata": {
    "colab": {
      "name": "Untitled.ipynb",
      "version": "0.3.2",
      "provenance": []
    },
    "kernelspec": {
      "name": "python3",
      "display_name": "Python 3"
    },
    "accelerator": "GPU"
  },
  "cells": [
    {
      "metadata": {
        "id": "loYvRpPJzwMR",
        "colab_type": "code",
        "colab": {}
      },
      "cell_type": "code",
      "source": [
        "# http://pytorch.org/\n",
        "from os.path import exists\n",
        "from wheel.pep425tags import get_abbr_impl, get_impl_ver, get_abi_tag\n",
        "platform = '{}{}-{}'.format(get_abbr_impl(), get_impl_ver(), get_abi_tag())\n",
        "cuda_output = !ldconfig -p|grep cudart.so|sed -e 's/.*\\.\\([0-9]*\\)\\.\\([0-9]*\\)$/cu\\1\\2/'\n",
        "accelerator = cuda_output[0] if exists('/dev/nvidia0') else 'cpu'\n",
        "\n",
        "!pip install -q http://download.pytorch.org/whl/{accelerator}/torch-0.4.1-{platform}-linux_x86_64.whl torchvision\n",
        "import torch\n",
        "import torchvision"
      ],
      "execution_count": 0,
      "outputs": []
    },
    {
      "metadata": {
        "id": "Omw73GICzbgM",
        "colab_type": "code",
        "colab": {}
      },
      "cell_type": "code",
      "source": [
        "import numpy as np\n",
        "import gzip\n",
        "import struct\n",
        "import pickle\n",
        "from matplotlib import pyplot as plt\n",
        "import torch\n",
        "from torch import nn\n",
        "from torch import optim\n",
        "from torchvision import transforms"
      ],
      "execution_count": 0,
      "outputs": []
    },
    {
      "metadata": {
        "id": "qPdPA-4Dzbgn",
        "colab_type": "code",
        "outputId": "cf013d75-746e-41e9-a3c4-d5491e1d97af",
        "colab": {
          "base_uri": "https://localhost:8080/",
          "height": 71
        }
      },
      "cell_type": "code",
      "source": [
        "import urllib.request\n",
        "\n",
        "urllib.request.urlretrieve(\"http://yann.lecun.com/exdb/mnist/train-images-idx3-ubyte.gz\", \"train_features.gz\")\n",
        "urllib.request.urlretrieve(\"http://yann.lecun.com/exdb/mnist/t10k-images-idx3-ubyte.gz\", \"test_features.gz\")\n",
        "\n",
        "\n",
        "def get_features(filename):\n",
        "    with gzip.open(filename, 'rb') as f:\n",
        "        zero, data_type, dims = struct.unpack('>HBB', f.read(4))\n",
        "        shape = tuple(struct.unpack('>I', f.read(4))[0] for d in range(dims))\n",
        "        return np.fromstring(f.read(), dtype=np.uint8).reshape(shape)\n",
        "    \n",
        "def plot_image(image):\n",
        "    plt.imshow(image.reshape((28,28)), cmap=\"gray\")\n",
        "    \n",
        "features = get_features(\"train_features.gz\").reshape((100,600,784)) / 255\n",
        "features = torch.from_numpy(features).float().cuda()"
      ],
      "execution_count": 363,
      "outputs": [
        {
          "output_type": "stream",
          "text": [
            "/usr/local/lib/python3.6/dist-packages/ipykernel_launcher.py:11: DeprecationWarning: The binary mode of fromstring is deprecated, as it behaves surprisingly on unicode inputs. Use frombuffer instead\n",
            "  # This is added back by InteractiveShellApp.init_path()\n"
          ],
          "name": "stderr"
        }
      ]
    },
    {
      "metadata": {
        "id": "-2AC42U-0jkL",
        "colab_type": "code",
        "colab": {}
      },
      "cell_type": "code",
      "source": [
        "class VAE(nn.Module):\n",
        "  def __init__(self):\n",
        "    super(VAE, self).__init__()\n",
        "    \n",
        "    self.relu = nn.ReLU()\n",
        "    self.sigmoid = nn.Sigmoid()\n",
        "    self.dropout = nn.Dropout2d()\n",
        "    \n",
        "    #encoder\n",
        "    self.e_fc1 = nn.Linear(784,400)\n",
        "    self.e_fc2 = nn.Linear(400,200)\n",
        "    self.e_fc3 = nn.Linear(200,100)\n",
        "    \n",
        "    #decoder\n",
        "    \n",
        "    self.d_fc1 = nn.Linear(100,400)\n",
        "    self.d_fc2 = nn.Linear(400,784)\n",
        "    \n",
        "  \n",
        "  def forward(self, input, generating=False):\n",
        "    # encoding\n",
        "    mean, var = None, None\n",
        "    if not generating: \n",
        "      res = self.relu(self.e_fc1(input))\n",
        "      res = self.relu(self.e_fc2(res))\n",
        "      mean = self.relu(self.e_fc3(res))\n",
        "      samples = torch.randn_like(mean)\n",
        "      input = mean + samples\n",
        "    \n",
        "    # decoding\n",
        "    res = self.relu(self.d_fc1(input))\n",
        "    res = self.sigmoid(self.d_fc2(res))\n",
        "    return (res,mean)"
      ],
      "execution_count": 0,
      "outputs": []
    },
    {
      "metadata": {
        "id": "vlGtQyrM-4kN",
        "colab_type": "code",
        "colab": {}
      },
      "cell_type": "code",
      "source": [
        "net = VAE().cuda()"
      ],
      "execution_count": 0,
      "outputs": []
    },
    {
      "metadata": {
        "id": "tDj3o1UI_D2K",
        "colab_type": "code",
        "colab": {}
      },
      "cell_type": "code",
      "source": [
        "epochs = 200\n",
        "optimizer = optim.Adam(net.parameters())\n",
        "\n",
        "def loss_function(recon_x, x, mu):\n",
        "    RL = ((x - recon_x) ** 2).sum()\n",
        "    KLD = 0.5 * torch.sum(mu.pow(2))\n",
        "\n",
        "    return RL + KLD\n",
        "\n",
        "for i in range(epochs):\n",
        "  for j in range(10):\n",
        "    data = features[j,:,:]\n",
        "    optimizer.zero_grad()\n",
        "    generated, mean = net(data)\n",
        "    loss = loss_function(generated, data, mean)\n",
        "    loss.backward()\n",
        "    optimizer.step()\n",
        "#     print(\"epoch: \", i)\n",
        "#     print(\"loss: \", loss)\n",
        "#     print(\"reconstruct loss: \", loss_reconstruct.item())\n",
        "#     print(\"KL: \", loss_KL.item())\n",
        "#     print(\"___________\")"
      ],
      "execution_count": 0,
      "outputs": []
    },
    {
      "metadata": {
        "id": "NSS5S2uPLGXB",
        "colab_type": "code",
        "colab": {}
      },
      "cell_type": "code",
      "source": [
        "from matplotlib import pyplot as plt\n",
        "def plot_image(image):\n",
        "    plt.imshow(image.detach().cpu().numpy().reshape((28,28)) * 255, cmap=\"gray\")"
      ],
      "execution_count": 0,
      "outputs": []
    },
    {
      "metadata": {
        "id": "J_VPsWN3LU72",
        "colab_type": "code",
        "outputId": "4ec38682-c108-4d74-cbd8-1342e800f3bf",
        "colab": {
          "base_uri": "https://localhost:8080/",
          "height": 347
        }
      },
      "cell_type": "code",
      "source": [
        "sample = net(torch.randn(1, 100).cuda(), generating=True)[0]\n",
        "plot_image(sample)"
      ],
      "execution_count": 459,
      "outputs": [
        {
          "output_type": "display_data",
          "data": {
            "image/png": "[encoded data removed]",
            "text/plain": [
              "<matplotlib.figure.Figure at 0x7f5a8a0ada20>"
            ]
          },
          "metadata": {
            "tags": []
          }
        }
      ]
    },
    {
      "metadata": {
        "id": "Eofqr0w5ZoNu",
        "colab_type": "code",
        "colab": {}
      },
      "cell_type": "code",
      "source": [
        ""
      ],
      "execution_count": 0,
      "outputs": []
    }
  ]
}