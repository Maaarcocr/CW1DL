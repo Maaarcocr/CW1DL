{
 "cells": [
  {
   "cell_type": "code",
   "execution_count": 5,
   "metadata": {},
   "outputs": [],
   "source": [
    "import numpy as np\n",
    "import gzip\n",
    "import struct\n",
    "\n",
    "from matplotlib import pyplot as plt"
   ]
  },
  {
   "cell_type": "code",
   "execution_count": 65,
   "metadata": {},
   "outputs": [
    {
     "name": "stderr",
     "output_type": "stream",
     "text": [
      "C:\\Users\\marco\\AppData\\Roaming\\Python\\Python36\\site-packages\\ipykernel_launcher.py:5: DeprecationWarning: The binary mode of fromstring is deprecated, as it behaves surprisingly on unicode inputs. Use frombuffer instead\n",
      "  \"\"\"\n",
      "C:\\Users\\marco\\AppData\\Roaming\\Python\\Python36\\site-packages\\ipykernel_launcher.py:11: DeprecationWarning: The binary mode of fromstring is deprecated, as it behaves surprisingly on unicode inputs. Use frombuffer instead\n",
      "  # This is added back by InteractiveShellApp.init_path()\n"
     ]
    }
   ],
   "source": [
    "import urllib.request\n",
    "\n",
    "urllib.request.urlretrieve(\"http://yann.lecun.com/exdb/mnist/train-images-idx3-ubyte.gz\", \"train_features.gz\")\n",
    "urllib.request.urlretrieve(\"http://yann.lecun.com/exdb/mnist/t10k-images-idx3-ubyte.gz\", \"test_features.gz\")\n",
    "\n",
    "\n",
    "def get_features(filename):\n",
    "    with gzip.open(filename, 'rb') as f:\n",
    "        zero, data_type, dims = struct.unpack('>HBB', f.read(4))\n",
    "        shape = tuple(struct.unpack('>I', f.read(4))[0] for d in range(dims))\n",
    "        return np.fromstring(f.read(), dtype=np.uint8).reshape(shape)\n",
    "    \n",
    "def plot_image(image):\n",
    "    plt.imshow(image.reshape((28,28)), cmap=\"gray\")\n",
    "    \n",
    "labels = get_labels()\n",
    "features = get_features(\"train_features.gz\").reshape((60000, 784))\n",
    "features = features / 255\n",
    "test = get_features(\"test_features.gz\").reshape((10000, 784))"
   ]
  },
  {
   "cell_type": "code",
   "execution_count": 16,
   "metadata": {},
   "outputs": [],
   "source": [
    "# def sigmoid(x):\n",
    "#     return 1 / (1 + np.exp(0 - x))\n",
    "def sigmoid(x):\n",
    "    return np.where(x >= 0, 1 / (1 + np.exp(-x)), np.exp(x) / (1 + np.exp(x)))\n",
    "# def sigmoid(x):\n",
    "#     return np.vectorize(lambda k: 1 / (1 + np.exp(-k)) if k >= 0 else np.exp(k) / (1 + np.exp(k)))(x)\n",
    "\n",
    "def d_sigmoid(x):\n",
    "    return sigmoid(x) * (1 - sigmoid(x))\n",
    "\n",
    "def relu(x):\n",
    "    return np.maximum(x,0)\n",
    "\n",
    "def d_relu(x):\n",
    "    return np.where(x > 0, np.full(np.shape(x), 1), np.full(np.shape(x), 0))\n",
    "\n",
    "# def leaky_relu(x, a=0.01):\n",
    "#     _leaky_relu = lambda k: k if k > 0 else a*k\n",
    "#     return np.vectorize(_leaky_relu)(x)\n",
    "\n",
    "# def d_leaky_relu(x, a=0.01):\n",
    "#     _d_leaky_relu = lambda k: 1 if k > 0 else a\n",
    "#     return np.vectorize(_d_leaky_relu)(x)\n",
    "\n",
    "# def tanh(x):\n",
    "#     return np.tanh(x)\n",
    "\n",
    "# def d_tanh(x):\n",
    "#     return 1.0 - np.tanh(x)**2\n",
    "\n",
    "def squared_loss(y, x):\n",
    "    return (y - x) ** 2 / 2\n",
    "\n",
    "def d_squared_loss(y, x):\n",
    "    return - (y - x)"
   ]
  },
  {
   "cell_type": "code",
   "execution_count": 44,
   "metadata": {},
   "outputs": [],
   "source": [
    "def run(xs, w_1, w_2, b_1, b_2):\n",
    "    \"\"\"\n",
    "    :param x: the matrix of input data, shape (N, D)\n",
    "    \"\"\"\n",
    "    N = xs.shape[1]\n",
    "    D = xs.shape[0]\n",
    "    f1 = w_1 @ xs\n",
    "    f2 = (b_1 + f1.T).T\n",
    "    f3 = relu(f2)\n",
    "    f4 = w_2 @ f3\n",
    "    f5 = (b_2 + f4.T).T\n",
    "    f6 = sigmoid(f5)\n",
    "    f7 = squared_loss(xs, f6)\n",
    "#     f8 = np.sum(f7, axis=0)\n",
    "    f9 = np.sum(f7)\n",
    "    f10 = f9 / N\n",
    "    \n",
    "    t10 = 1\n",
    "    t9 = 1 / N\n",
    "    t8 = np.full((N), 1 / N)\n",
    "    t7 = np.full((D, N), 1 / N)\n",
    "    t6 = d_squared_loss(xs, f6) * t7\n",
    "    t5 = (d_sigmoid(f5)) * t6\n",
    "    t4 = t5\n",
    "    tb2 = np.sum(t5, axis=1)\n",
    "\n",
    "    t3 = w_2.T @ t4\n",
    "    tw2 = (f3 @ t4.T).T\n",
    "\n",
    "    t2 = d_relu(f2) * t3\n",
    "\n",
    "    t1 = t2\n",
    "    tb1 = np.sum(t2, axis=1)\n",
    "    tw1 = t1 @ xs.T\n",
    "    return f6, tw1, tw2, tb1, tb2, f10"
   ]
  },
  {
   "cell_type": "code",
   "execution_count": 45,
   "metadata": {},
   "outputs": [],
   "source": [
    "def adam(weight, grad, k, m_prev, v_prev, b1=0.9, b2=0.999, l=0.0000000001, rate=0.01):\n",
    "    m = b1 * m_prev + (1 - b1)*grad\n",
    "    v = b2 * v_prev + (1 - b2)*(grad ** 2)\n",
    "    \n",
    "    m_hat = m / (1 - (b1 ** k))\n",
    "    v_hat = v / (1 - (b2 ** k))\n",
    "    weight -= (rate / (np.sqrt(v_hat) + l))*m_hat\n",
    "    return (k+1, m, v)\n"
   ]
  },
  {
   "cell_type": "code",
   "execution_count": 46,
   "metadata": {},
   "outputs": [],
   "source": [
    "def create_weight(shape):\n",
    "    stdv = 1. / np.sqrt(shape[-1])\n",
    "    return np.random.uniform(-stdv, stdv, shape)\n",
    "#     rand(Uniform(-stdv, stdv), dims...)\n",
    "    # rand(Normal(0,1), dims...)\n",
    "\n",
    "w1 = create_weight((30, 784))\n",
    "w2 = create_weight((784, 30))\n",
    "b1 = create_weight((30,))\n",
    "b2 = create_weight((784,))"
   ]
  },
  {
   "cell_type": "code",
   "execution_count": 47,
   "metadata": {
    "scrolled": true
   },
   "outputs": [
    {
     "name": "stdout",
     "output_type": "stream",
     "text": [
      "0 90.9634692086024\n",
      "1 85.4501472560778\n",
      "2 77.50137893417994\n",
      "3 67.48489084536594\n",
      "4 57.43978759967886\n",
      "5 48.67113200706382\n",
      "6 41.65105144360016\n",
      "7 36.43793827184378\n",
      "8 32.93020703387067\n",
      "9 30.818551496146046\n",
      "10 29.73928895327996\n",
      "11 29.209169471453183\n",
      "12 28.926678034746775\n",
      "13 28.67036568346246\n",
      "14 28.396975901864252\n",
      "15 28.13241762743474\n",
      "16 27.918303558609878\n",
      "17 27.732224096752184\n",
      "18 27.572297456786632\n",
      "19 27.423844556130963\n",
      "20 27.25704679788575\n",
      "21 27.05663228979176\n",
      "22 26.846139651870782\n",
      "23 26.63476544709746\n",
      "24 26.428141688157666\n",
      "25 26.231877641628575\n",
      "26 26.030115294026402\n",
      "27 25.813234186693403\n",
      "28 25.59576435634568\n",
      "29 25.402467305127644\n",
      "30 25.21719285848049\n",
      "31 25.028684927373895\n",
      "32 24.826474526932348\n",
      "33 24.611789249500877\n",
      "34 24.389527653378583\n",
      "35 24.177905578002857\n",
      "36 23.98175563564871\n",
      "37 23.79070415438745\n",
      "38 23.588736514062578\n",
      "39 23.377973405557256\n",
      "40 23.17069018971388\n",
      "41 22.970953121993197\n",
      "42 22.780880376960734\n",
      "43 22.597227588421074\n",
      "44 22.410167346933083\n",
      "45 22.223878859579944\n",
      "46 22.045133388126327\n",
      "47 21.867240314659593\n",
      "48 21.686550842006685\n",
      "49 21.505674563687805\n",
      "50 21.3255374511481\n",
      "51 21.14832569553546\n",
      "52 20.97504268086921\n",
      "53 20.805480059531735\n",
      "54 20.642928493500403\n",
      "55 20.483339885174\n",
      "56 20.321443185687244\n",
      "57 20.15834665373026\n",
      "58 19.997966442388762\n",
      "59 19.842290786308464\n",
      "60 19.693150853628815\n",
      "61 19.551189366916777\n",
      "62 19.413467335120032\n",
      "63 19.27753972346719\n",
      "64 19.14749348803197\n",
      "65 19.02435800497089\n",
      "66 18.903646821212792\n",
      "67 18.782831338788824\n",
      "68 18.6638348228997\n"
     ]
    },
    {
     "ename": "KeyboardInterrupt",
     "evalue": "",
     "output_type": "error",
     "traceback": [
      "\u001b[1;31m---------------------------------------------------------------------------\u001b[0m",
      "\u001b[1;31mKeyboardInterrupt\u001b[0m                         Traceback (most recent call last)",
      "\u001b[1;32m<ipython-input-47-8cf8355c6019>\u001b[0m in \u001b[0;36m<module>\u001b[1;34m()\u001b[0m\n\u001b[0;32m      7\u001b[0m \u001b[1;33m\u001b[0m\u001b[0m\n\u001b[0;32m      8\u001b[0m \u001b[1;32mfor\u001b[0m \u001b[0mi\u001b[0m \u001b[1;32min\u001b[0m \u001b[0mrange\u001b[0m\u001b[1;33m(\u001b[0m\u001b[0mepochs\u001b[0m\u001b[1;33m)\u001b[0m\u001b[1;33m:\u001b[0m\u001b[1;33m\u001b[0m\u001b[0m\n\u001b[1;32m----> 9\u001b[1;33m     \u001b[0mres\u001b[0m\u001b[1;33m,\u001b[0m \u001b[0mgrad_w1\u001b[0m\u001b[1;33m,\u001b[0m \u001b[0mgrad_w2\u001b[0m\u001b[1;33m,\u001b[0m \u001b[0mgrad_b1\u001b[0m\u001b[1;33m,\u001b[0m \u001b[0mgrad_b2\u001b[0m\u001b[1;33m,\u001b[0m \u001b[0mloss\u001b[0m \u001b[1;33m=\u001b[0m \u001b[0mrun\u001b[0m\u001b[1;33m(\u001b[0m\u001b[0mfeatures\u001b[0m\u001b[1;33m.\u001b[0m\u001b[0mT\u001b[0m\u001b[1;33m,\u001b[0m \u001b[0mw1\u001b[0m\u001b[1;33m,\u001b[0m \u001b[0mw2\u001b[0m\u001b[1;33m,\u001b[0m \u001b[0mb1\u001b[0m\u001b[1;33m,\u001b[0m \u001b[0mb2\u001b[0m\u001b[1;33m)\u001b[0m\u001b[1;33m\u001b[0m\u001b[0m\n\u001b[0m\u001b[0;32m     10\u001b[0m     \u001b[0mgrads\u001b[0m \u001b[1;33m=\u001b[0m \u001b[1;33m[\u001b[0m\u001b[0mgrad_w1\u001b[0m\u001b[1;33m,\u001b[0m \u001b[0mgrad_w2\u001b[0m\u001b[1;33m,\u001b[0m \u001b[0mgrad_b1\u001b[0m\u001b[1;33m,\u001b[0m \u001b[0mgrad_b2\u001b[0m\u001b[1;33m]\u001b[0m\u001b[1;33m\u001b[0m\u001b[0m\n\u001b[0;32m     11\u001b[0m     \u001b[1;32mfor\u001b[0m \u001b[1;33m(\u001b[0m\u001b[0mj\u001b[0m\u001b[1;33m,\u001b[0m \u001b[1;33m(\u001b[0m\u001b[0mweight\u001b[0m\u001b[1;33m,\u001b[0m \u001b[0mprevious_running\u001b[0m\u001b[1;33m,\u001b[0m \u001b[0mgrad\u001b[0m\u001b[1;33m)\u001b[0m\u001b[1;33m)\u001b[0m \u001b[1;32min\u001b[0m \u001b[0menumerate\u001b[0m\u001b[1;33m(\u001b[0m\u001b[0mzip\u001b[0m\u001b[1;33m(\u001b[0m\u001b[0mweights\u001b[0m\u001b[1;33m,\u001b[0m \u001b[0mprevious_runnings\u001b[0m\u001b[1;33m,\u001b[0m \u001b[0mgrads\u001b[0m\u001b[1;33m)\u001b[0m\u001b[1;33m)\u001b[0m\u001b[1;33m:\u001b[0m\u001b[1;33m\u001b[0m\u001b[0m\n",
      "\u001b[1;32m<ipython-input-44-3f957c8f0c66>\u001b[0m in \u001b[0;36mrun\u001b[1;34m(xs, w_1, w_2, b_1, b_2)\u001b[0m\n\u001b[0;32m     10\u001b[0m     \u001b[0mf4\u001b[0m \u001b[1;33m=\u001b[0m \u001b[0mw_2\u001b[0m \u001b[1;33m@\u001b[0m \u001b[0mf3\u001b[0m\u001b[1;33m\u001b[0m\u001b[0m\n\u001b[0;32m     11\u001b[0m     \u001b[0mf5\u001b[0m \u001b[1;33m=\u001b[0m \u001b[1;33m(\u001b[0m\u001b[0mb_2\u001b[0m \u001b[1;33m+\u001b[0m \u001b[0mf4\u001b[0m\u001b[1;33m.\u001b[0m\u001b[0mT\u001b[0m\u001b[1;33m)\u001b[0m\u001b[1;33m.\u001b[0m\u001b[0mT\u001b[0m\u001b[1;33m\u001b[0m\u001b[0m\n\u001b[1;32m---> 12\u001b[1;33m     \u001b[0mf6\u001b[0m \u001b[1;33m=\u001b[0m \u001b[0msigmoid\u001b[0m\u001b[1;33m(\u001b[0m\u001b[0mf5\u001b[0m\u001b[1;33m)\u001b[0m\u001b[1;33m\u001b[0m\u001b[0m\n\u001b[0m\u001b[0;32m     13\u001b[0m     \u001b[0mf7\u001b[0m \u001b[1;33m=\u001b[0m \u001b[0msquared_loss\u001b[0m\u001b[1;33m(\u001b[0m\u001b[0mxs\u001b[0m\u001b[1;33m,\u001b[0m \u001b[0mf6\u001b[0m\u001b[1;33m)\u001b[0m\u001b[1;33m\u001b[0m\u001b[0m\n\u001b[0;32m     14\u001b[0m \u001b[1;31m#     f8 = np.sum(f7, axis=0)\u001b[0m\u001b[1;33m\u001b[0m\u001b[1;33m\u001b[0m\u001b[0m\n",
      "\u001b[1;32m<ipython-input-16-103076d1fb29>\u001b[0m in \u001b[0;36msigmoid\u001b[1;34m(x)\u001b[0m\n\u001b[0;32m      2\u001b[0m \u001b[1;31m#     return 1 / (1 + np.exp(0 - x))\u001b[0m\u001b[1;33m\u001b[0m\u001b[1;33m\u001b[0m\u001b[0m\n\u001b[0;32m      3\u001b[0m \u001b[1;32mdef\u001b[0m \u001b[0msigmoid\u001b[0m\u001b[1;33m(\u001b[0m\u001b[0mx\u001b[0m\u001b[1;33m)\u001b[0m\u001b[1;33m:\u001b[0m\u001b[1;33m\u001b[0m\u001b[0m\n\u001b[1;32m----> 4\u001b[1;33m     \u001b[1;32mreturn\u001b[0m \u001b[0mnp\u001b[0m\u001b[1;33m.\u001b[0m\u001b[0mwhere\u001b[0m\u001b[1;33m(\u001b[0m\u001b[0mx\u001b[0m \u001b[1;33m>=\u001b[0m \u001b[1;36m0\u001b[0m\u001b[1;33m,\u001b[0m \u001b[1;36m1\u001b[0m \u001b[1;33m/\u001b[0m \u001b[1;33m(\u001b[0m\u001b[1;36m1\u001b[0m \u001b[1;33m+\u001b[0m \u001b[0mnp\u001b[0m\u001b[1;33m.\u001b[0m\u001b[0mexp\u001b[0m\u001b[1;33m(\u001b[0m\u001b[1;33m-\u001b[0m\u001b[0mx\u001b[0m\u001b[1;33m)\u001b[0m\u001b[1;33m)\u001b[0m\u001b[1;33m,\u001b[0m \u001b[0mnp\u001b[0m\u001b[1;33m.\u001b[0m\u001b[0mexp\u001b[0m\u001b[1;33m(\u001b[0m\u001b[0mx\u001b[0m\u001b[1;33m)\u001b[0m \u001b[1;33m/\u001b[0m \u001b[1;33m(\u001b[0m\u001b[1;36m1\u001b[0m \u001b[1;33m+\u001b[0m \u001b[0mnp\u001b[0m\u001b[1;33m.\u001b[0m\u001b[0mexp\u001b[0m\u001b[1;33m(\u001b[0m\u001b[0mx\u001b[0m\u001b[1;33m)\u001b[0m\u001b[1;33m)\u001b[0m\u001b[1;33m)\u001b[0m\u001b[1;33m\u001b[0m\u001b[0m\n\u001b[0m\u001b[0;32m      5\u001b[0m \u001b[1;31m# def sigmoid(x):\u001b[0m\u001b[1;33m\u001b[0m\u001b[1;33m\u001b[0m\u001b[0m\n\u001b[0;32m      6\u001b[0m \u001b[1;31m#     return np.vectorize(lambda k: 1 / (1 + np.exp(-k)) if k >= 0 else np.exp(k) / (1 + np.exp(k)))(x)\u001b[0m\u001b[1;33m\u001b[0m\u001b[1;33m\u001b[0m\u001b[0m\n",
      "\u001b[1;31mKeyboardInterrupt\u001b[0m: "
     ]
    }
   ],
   "source": [
    "past_epochs = []\n",
    "past_loss_values = []\n",
    "\n",
    "epochs = 100\n",
    "previous_runnings = [[1,0,0] for i in range(4)]\n",
    "weights = [w1,w2,b1,b2]\n",
    "\n",
    "for i in range(epochs):\n",
    "    res, grad_w1, grad_w2, grad_b1, grad_b2, loss = run(features.T, w1, w2, b1, b2)\n",
    "    grads = [grad_w1, grad_w2, grad_b1, grad_b2]\n",
    "    for (j, (weight, previous_running, grad)) in enumerate(zip(weights, previous_runnings, grads)):\n",
    "        k, m, v = previous_running\n",
    "        previous_runnings[j] = adam(weight, grad, k, m, v)\n",
    "    past_epochs.append(i)\n",
    "    past_loss_values.append(loss)\n",
    "    print(i, loss)"
   ]
  },
  {
   "cell_type": "code",
   "execution_count": 57,
   "metadata": {},
   "outputs": [
    {
     "data": {
      "image/png": "[encoded data removed]",
      "text/plain": [
       "<Figure size 432x288 with 1 Axes>"
      ]
     },
     "metadata": {},
     "output_type": "display_data"
    }
   ],
   "source": [
    "index = 8080\n",
    "\n",
    "img = test[index:index+1, :]\n",
    "\n",
    "plot_image(img)\n",
    "# test = run(features.T[:,1:108], w1, w2, b1, b2)"
   ]
  },
  {
   "cell_type": "code",
   "execution_count": 58,
   "metadata": {},
   "outputs": [
    {
     "data": {
      "image/png": "[encoded data removed]",
      "text/plain": [
       "<Figure size 432x288 with 1 Axes>"
      ]
     },
     "metadata": {},
     "output_type": "display_data"
    }
   ],
   "source": [
    "res_img, grad_w1, grad_w2, grad_b1, grad_b2, loss = run((img/255).T, w1, w2, b1, b2)\n",
    "plot_image(res_img*255)"
   ]
  },
  {
   "cell_type": "code",
   "execution_count": null,
   "metadata": {},
   "outputs": [],
   "source": []
  }
 ],
 "metadata": {
  "kernelspec": {
   "display_name": "Python 3",
   "language": "python",
   "name": "python3"
  },
  "language_info": {
   "codemirror_mode": {
    "name": "ipython",
    "version": 3
   },
   "file_extension": ".py",
   "mimetype": "text/x-python",
   "name": "python",
   "nbconvert_exporter": "python",
   "pygments_lexer": "ipython3",
   "version": "3.6.5"
  }
 },
 "nbformat": 4,
 "nbformat_minor": 2
}
