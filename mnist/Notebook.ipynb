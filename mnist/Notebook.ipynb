{
 "cells": [
  {
   "cell_type": "code",
   "execution_count": 108,
   "metadata": {},
   "outputs": [],
   "source": [
    "import numpy as np\n",
    "import gzip\n",
    "import struct\n",
    "\n",
    "from matplotlib import pyplot as plt"
   ]
  },
  {
   "cell_type": "code",
   "execution_count": 109,
   "metadata": {},
   "outputs": [
    {
     "name": "stderr",
     "output_type": "stream",
     "text": [
      "C:\\Users\\marco\\AppData\\Roaming\\Python\\Python36\\site-packages\\ipykernel_launcher.py:5: DeprecationWarning: The binary mode of fromstring is deprecated, as it behaves surprisingly on unicode inputs. Use frombuffer instead\n",
      "  \"\"\"\n",
      "C:\\Users\\marco\\AppData\\Roaming\\Python\\Python36\\site-packages\\ipykernel_launcher.py:11: DeprecationWarning: The binary mode of fromstring is deprecated, as it behaves surprisingly on unicode inputs. Use frombuffer instead\n",
      "  # This is added back by InteractiveShellApp.init_path()\n"
     ]
    }
   ],
   "source": [
    "def get_labels():\n",
    "    with gzip.open(\"train_labels.gz\", 'rb') as f:\n",
    "        zero, data_type, dims = struct.unpack('>HBB', f.read(4))\n",
    "        shape = tuple(struct.unpack('>I', f.read(4))[0] for d in range(dims))\n",
    "        return np.fromstring(f.read(), dtype=np.uint8).reshape(shape)\n",
    "    \n",
    "def get_features(filename):\n",
    "    with gzip.open(filename, 'rb') as f:\n",
    "        zero, data_type, dims = struct.unpack('>HBB', f.read(4))\n",
    "        shape = tuple(struct.unpack('>I', f.read(4))[0] for d in range(dims))\n",
    "        return np.fromstring(f.read(), dtype=np.uint8).reshape(shape)\n",
    "    \n",
    "def plot_image(image):\n",
    "    plt.imshow(image.reshape((28,28)), cmap=\"gray\")\n",
    "    \n",
    "labels = get_labels()\n",
    "features = get_features(\"train_features.gz\").reshape((60000, 784))\n",
    "test = get_features(\"test_features.gz\").reshape((10000, 784))"
   ]
  },
  {
   "cell_type": "code",
   "execution_count": 110,
   "metadata": {},
   "outputs": [],
   "source": [
    "def sigmoid(x):\n",
    "    return 1 / (1 + np.exp(0 - x))\n",
    "\n",
    "def d_sigmoid(x):\n",
    "    return sigmoid(x) * (1 - sigmoid(x))\n",
    "\n",
    "def squared_loss(y, x):\n",
    "    return (y - x) ** 2\n",
    "\n",
    "def d_squared_loss(y, x):\n",
    "    return - 2 * (y - x)"
   ]
  },
  {
   "cell_type": "code",
   "execution_count": 111,
   "metadata": {},
   "outputs": [],
   "source": [
    "def run(xs, w_1, w_2, b_1, b_2):\n",
    "    \"\"\"\n",
    "    :param x: the matrix of input data, shape (N, D)\n",
    "    \"\"\"\n",
    "    N = xs.shape[1]\n",
    "    D = xs.shape[0]\n",
    "    f1 = w_1 @ xs\n",
    "    f2 = (b_1 + f1.T).T\n",
    "    f3 = sigmoid(f2)\n",
    "    f4 = w_2 @ f3\n",
    "    f5 = (b_2 + f4.T).T\n",
    "    f6 = sigmoid(f5)\n",
    "    f7 = squared_loss(xs, f6)\n",
    "    f8 = np.sum(f7, axis=0)\n",
    "    f9 = np.sum(f8, axis=0)\n",
    "    f10 = f9 / N\n",
    "    \n",
    "    t10 = 1\n",
    "    t9 = 1 / N\n",
    "    t8 = np.full((N), 1 / N)\n",
    "    t7 = np.full((D, N), 1 / N)\n",
    "    t6 = d_squared_loss(xs, f6) * t7\n",
    "    t5 = (d_sigmoid(f5)) * t6\n",
    "    t4 = t5\n",
    "    tb2 = np.sum(t5, axis=1)\n",
    "\n",
    "    t3 = w_2.T @ t4\n",
    "    tw2 = (f3 @ t4.T).T\n",
    "\n",
    "    t2 = d_sigmoid(f2) * t3\n",
    "\n",
    "    t1 = t2\n",
    "    tb1 = np.sum(t2, axis=1)\n",
    "    tw1 = t1 @ xs.T\n",
    "    return f6, tw1, tw2, tb1, tb2, f10"
   ]
  },
  {
   "cell_type": "code",
   "execution_count": 112,
   "metadata": {},
   "outputs": [],
   "source": [
    "def adam(weight, grad, k, m_prev, v_prev, b1=0.9, b2=0.999, l=0.00000001, rate=0.007):\n",
    "    m = b1 * m_prev + (1 - b1)*grad\n",
    "    v = b2 * v_prev + (1 - b2)*(grad ** 2)\n",
    "    \n",
    "    m_hat = m / (1 - (b1 ** k))\n",
    "    v_hat = v / (1 - (b2 ** k))\n",
    "    weight -= (rate / (np.sqrt(v_hat) + l))*m_hat\n",
    "    return (k+1, m, v)\n"
   ]
  },
  {
   "cell_type": "code",
   "execution_count": 113,
   "metadata": {},
   "outputs": [],
   "source": [
    "w1 = np.random.normal(0, 1, (30, 784))\n",
    "w2 = np.random.normal(0, 1, (784, 30))\n",
    "b1 = np.random.normal(0, 1, (30))\n",
    "b2 = np.random.normal(0, 1, (784))"
   ]
  },
  {
   "cell_type": "code",
   "execution_count": 114,
   "metadata": {},
   "outputs": [],
   "source": [
    "features = features / 255"
   ]
  },
  {
   "cell_type": "code",
   "execution_count": null,
   "metadata": {
    "scrolled": true
   },
   "outputs": [
    {
     "name": "stdout",
     "output_type": "stream",
     "text": [
      "0 302.34759257106776\n",
      "1 293.21052193340614\n",
      "2 284.2926541999929\n",
      "3 275.62680039221465\n",
      "4 267.2397638005156\n",
      "5 259.1582375233632\n",
      "6 251.4094531036399\n",
      "7 244.01090988512928\n",
      "8 236.963262234164\n",
      "9 230.25586057147459\n",
      "10 223.8717173559641\n",
      "11 217.78995076828198\n",
      "12 211.9862543114864\n",
      "13 206.43190116243528\n",
      "14 201.09538041615835\n",
      "15 195.94519494487358\n",
      "16 190.9516055349973\n",
      "17 186.0879655361978\n",
      "18 181.33158778245578\n",
      "19 176.6654883651622\n",
      "20 172.07773452689815\n",
      "21 167.56000929047968\n",
      "22 163.105864712601\n",
      "23 158.70991111012728\n",
      "24 154.37009331271753\n",
      "25 150.08866041553074\n",
      "26 145.8699012282502\n",
      "27 141.71785098178313\n",
      "28 137.63657140404132\n",
      "29 133.6317881735162\n",
      "30 129.71181708218276\n",
      "31 125.88653807688861\n",
      "32 122.16486986591883\n",
      "33 118.55470474690418\n",
      "34 115.06389241872775\n",
      "35 111.69926324397818\n",
      "36 108.46430366483312\n",
      "37 105.3594316135646\n",
      "38 102.38388883034642\n",
      "39 99.53586644572799\n",
      "40 96.81253342687921\n",
      "41 94.21075780373302\n",
      "42 91.72769524372193\n",
      "43 89.3609313532869\n",
      "44 87.10872907443769\n",
      "45 84.96960378439351\n",
      "46 82.94129289745278\n",
      "47 81.02053610811302\n",
      "48 79.20360756060278\n",
      "49 77.48667044519303\n",
      "50 75.86608435372509\n",
      "51 74.33884949014791\n",
      "52 72.90234774654476\n",
      "53 71.5538518828535\n",
      "54 70.2899998434304\n",
      "55 69.10654347219807\n",
      "56 67.99872425855384\n",
      "57 66.96150482966843\n",
      "58 65.98966311283739\n",
      "59 65.07803329139634\n",
      "60 64.22190919930986\n",
      "61 63.4171236080813\n",
      "62 62.65995307440004\n",
      "63 61.94736148695071\n",
      "64 61.27723586412918\n",
      "65 60.64845699613405\n",
      "66 60.06086559884117\n",
      "67 59.51508504634872\n",
      "68 59.012236968659195\n",
      "69 58.55344428881564\n",
      "70 58.139153422937945\n",
      "71 57.76861625749661\n",
      "72 57.43965726638426\n",
      "73 57.14872732927503\n",
      "74 56.891296805644146\n",
      "75 56.66243348554462\n",
      "76 56.4572384196953\n",
      "77 56.271187624391764\n",
      "78 56.10047342130782\n",
      "79 55.942305612385844\n",
      "80 55.795072470736535\n",
      "81 55.65822155814977\n",
      "82 55.53160644381566\n",
      "83 55.41404794607894\n",
      "84 55.30196996064088\n",
      "85 55.190196663364596\n",
      "86 55.07430980960834\n"
     ]
    }
   ],
   "source": [
    "past_epochs = []\n",
    "past_loss_values = []\n",
    "\n",
    "epochs = 100\n",
    "previous_runnings = [[1,0,0] for i in range(4)]\n",
    "weights = [w1,w2,b1,b2]\n",
    "\n",
    "for i in range(epochs):\n",
    "    res, grad_w1, grad_w2, grad_b1, grad_b2, loss = run(features.T, w1, w2, b1, b2)\n",
    "    grads = [grad_w1, grad_w2, grad_b1, grad_b2]\n",
    "    for (j, (weight, previous_running, grad)) in enumerate(zip(weights, previous_runnings, grads)):\n",
    "        k, m, v = previous_running\n",
    "        previous_runnings[j] = adam(weight, grad, k, m, v)\n",
    "    past_epochs.append(i)\n",
    "    past_loss_values.append(loss)\n",
    "    print(i, loss)"
   ]
  },
  {
   "cell_type": "code",
   "execution_count": 81,
   "metadata": {},
   "outputs": [
    {
     "name": "stderr",
     "output_type": "stream",
     "text": [
      "C:\\Users\\marco\\AppData\\Roaming\\Python\\Python36\\site-packages\\ipykernel_launcher.py:2: RuntimeWarning: overflow encountered in exp\n",
      "  \n"
     ]
    },
    {
     "data": {
      "image/png": "[encoded data removed]",
      "text/plain": [
       "<Figure size 432x288 with 1 Axes>"
      ]
     },
     "metadata": {},
     "output_type": "display_data"
    }
   ],
   "source": [
    "test = run(features.T[:,6:7], w1, w2, b1, b2)\n",
    "plot_image(test[0][:,0] * 255)"
   ]
  },
  {
   "cell_type": "code",
   "execution_count": 64,
   "metadata": {},
   "outputs": [
    {
     "data": {
      "text/plain": [
       "2"
      ]
     },
     "execution_count": 64,
     "metadata": {},
     "output_type": "execute_result"
    }
   ],
   "source": [
    "labels[5]"
   ]
  },
  {
   "cell_type": "code",
   "execution_count": null,
   "metadata": {},
   "outputs": [],
   "source": []
  }
 ],
 "metadata": {
  "kernelspec": {
   "display_name": "Python 3",
   "language": "python",
   "name": "python3"
  },
  "language_info": {
   "codemirror_mode": {
    "name": "ipython",
    "version": 3
   },
   "file_extension": ".py",
   "mimetype": "text/x-python",
   "name": "python",
   "nbconvert_exporter": "python",
   "pygments_lexer": "ipython3",
   "version": "3.6.5"
  }
 },
 "nbformat": 4,
 "nbformat_minor": 2
}
