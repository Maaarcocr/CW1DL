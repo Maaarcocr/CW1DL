{
 "cells": [
  {
   "cell_type": "code",
   "execution_count": 1,
   "metadata": {},
   "outputs": [],
   "source": [
    "import numpy as np\n",
    "import gzip\n",
    "import struct\n",
    "import pickle\n",
    "from matplotlib import pyplot as plt"
   ]
  },
  {
   "cell_type": "code",
   "execution_count": 2,
   "metadata": {},
   "outputs": [
    {
     "name": "stderr",
     "output_type": "stream",
     "text": [
      "C:\\Users\\marco\\AppData\\Roaming\\Python\\Python36\\site-packages\\ipykernel_launcher.py:11: DeprecationWarning: The binary mode of fromstring is deprecated, as it behaves surprisingly on unicode inputs. Use frombuffer instead\n",
      "  # This is added back by InteractiveShellApp.init_path()\n"
     ]
    }
   ],
   "source": [
    "import urllib.request\n",
    "\n",
    "# urllib.request.urlretrieve(\"http://yann.lecun.com/exdb/mnist/train-images-idx3-ubyte.gz\", \"train_features.gz\")\n",
    "# urllib.request.urlretrieve(\"http://yann.lecun.com/exdb/mnist/t10k-images-idx3-ubyte.gz\", \"test_features.gz\")\n",
    "\n",
    "\n",
    "def get_features(filename):\n",
    "    with gzip.open(filename, 'rb') as f:\n",
    "        zero, data_type, dims = struct.unpack('>HBB', f.read(4))\n",
    "        shape = tuple(struct.unpack('>I', f.read(4))[0] for d in range(dims))\n",
    "        return np.fromstring(f.read(), dtype=np.uint8).reshape(shape)\n",
    "    \n",
    "def plot_image(image):\n",
    "    plt.imshow(image.reshape((28,28)), cmap=\"gray\")\n",
    "    \n",
    "features = get_features(\"train_features.gz\").reshape((60000, 784))\n",
    "features = features / 255\n",
    "features = features.astype(np.float32)\n",
    "test = get_features(\"test_features.gz\").reshape((10000, 784))\n",
    "test = test.astype(np.float32)"
   ]
  },
  {
   "cell_type": "code",
   "execution_count": 3,
   "metadata": {},
   "outputs": [],
   "source": [
    "def sigmoid(x):\n",
    "    return 1 / (1 + np.exp(0 - x))\n",
    "# def sigmoid(x):\n",
    "#     return np.where(x >= 0, 1 / (1 + np.exp(-x)), np.exp(x) / (1 + np.exp(x)))\n",
    "# def sigmoid(x):\n",
    "#     return np.vectorize(lambda k: 1 / (1 + np.exp(-k)) if k >= 0 else np.exp(k) / (1 + np.exp(k)))(x)\n",
    "\n",
    "# def d_sigmoid(x):\n",
    "#     return sigmoid(x) * (1 - sigmoid(x))\n",
    "\n",
    "def relu(x):\n",
    "    return np.maximum(x,0)\n",
    "\n",
    "def d_relu(x):\n",
    "    return np.where(x > 0, np.full(np.shape(x), 1), np.full(np.shape(x), 0))\n",
    "\n",
    "# def leaky_relu(x, a=0.01):\n",
    "#     _leaky_relu = lambda k: k if k > 0 else a*k\n",
    "#     return np.vectorize(_leaky_relu)(x)\n",
    "\n",
    "# def d_leaky_relu(x, a=0.01):\n",
    "#     _d_leaky_relu = lambda k: 1 if k > 0 else a\n",
    "#     return np.vectorize(_d_leaky_relu)(x)\n",
    "\n",
    "# def tanh(x):\n",
    "#     return np.tanh(x)\n",
    "\n",
    "# def d_tanh(x):\n",
    "#     return 1.0 - np.tanh(x)**2\n",
    "\n",
    "def squared_loss(y, x):\n",
    "    return (y - x) ** 2 / 2\n",
    "\n",
    "def d_squared_loss(y, x):\n",
    "    return - (y - x)\n",
    "\n",
    "def cross_entropy_loss(x,y):\n",
    "    return -x*np.log(y) - (1-x)*np.log(1-y)\n",
    "\n",
    "def d_cross_entropy_loss(x,y):\n",
    "    return ((1-x)/(1-y)) - (x/y)"
   ]
  },
  {
   "cell_type": "code",
   "execution_count": 4,
   "metadata": {},
   "outputs": [],
   "source": [
    "def run(xs, w_1, w_2, b_1, b_2, no_training=False):\n",
    "    \"\"\"\n",
    "    :param x: the matrix of input data, shape (N, D)\n",
    "    \"\"\"\n",
    "    N = xs.shape[1]\n",
    "    D = xs.shape[0]\n",
    "    f1 = w_1 @ xs\n",
    "    f2 = (b_1 + f1.T).T\n",
    "    f3 = relu(f2)\n",
    "    f4 = w_2 @ f3\n",
    "    f5 = (b_2 + f4.T).T\n",
    "    f6 = sigmoid(f5)\n",
    "    f7 = cross_entropy_loss(xs, f6)\n",
    "#     f8 = np.sum(f7, axis=0)\n",
    "    f9 = np.sum(f7)\n",
    "    f10 = f9 / N\n",
    "    if no_training:\n",
    "        return (f6, f10)\n",
    "    t10 = 1\n",
    "    t9 = 1 / N\n",
    "    t8 = np.full((N), 1 / N)\n",
    "    t7 = np.full((D, N), 1 / N)\n",
    "    t6 = d_cross_entropy_loss(xs, f6) * t7\n",
    "    t5 = (f6*(1-f6)) * t6\n",
    "    t4 = t5\n",
    "    tb2 = np.sum(t5, axis=1)\n",
    "\n",
    "    t3 = w_2.T @ t4\n",
    "    tw2 = (f3 @ t4.T).T\n",
    "\n",
    "    t2 = d_relu(f2) * t3\n",
    "\n",
    "    t1 = t2\n",
    "    tb1 = np.sum(t2, axis=1)\n",
    "    tw1 = t1 @ xs.T\n",
    "    return f6, tw1, tw2, tb1, tb2, f10"
   ]
  },
  {
   "cell_type": "code",
   "execution_count": 5,
   "metadata": {},
   "outputs": [],
   "source": [
    "def adam(weight, grad, k, m_prev, v_prev, b1=0.9, b2=0.999, l=0.0000000001, rate=0.05):\n",
    "    m = b1 * m_prev + (1 - b1)*grad\n",
    "    v = b2 * v_prev + (1 - b2)*(grad ** 2)\n",
    "    \n",
    "    m_hat = m / (1 - (b1 ** k))\n",
    "    v_hat = v / (1 - (b2 ** k))\n",
    "    weight -= (rate / (np.sqrt(v_hat) + l))*m_hat\n",
    "    return (k+1, m, v)\n"
   ]
  },
  {
   "cell_type": "code",
   "execution_count": 6,
   "metadata": {},
   "outputs": [],
   "source": [
    "def create_weight(shape):\n",
    "    stdv = 1. / np.sqrt(shape[-1])\n",
    "    return np.random.uniform(-stdv, stdv, shape).astype(np.float32)\n",
    "#     rand(Uniform(-stdv, stdv), dims...)\n",
    "    # rand(Normal(0,1), dims...)\n",
    "\n",
    "w1 = create_weight((30, 784))\n",
    "w2 = create_weight((784, 30))\n",
    "b1 = create_weight((30,))\n",
    "b2 = create_weight((784,))"
   ]
  },
  {
   "cell_type": "code",
   "execution_count": 7,
   "metadata": {
    "scrolled": true
   },
   "outputs": [
    {
     "name": "stdout",
     "output_type": "stream",
     "text": [
      "0 543.4375666666666\n",
      "1 438.3323\n",
      "2 299.6861333333333\n",
      "3 272.55898333333334\n",
      "4 264.7751333333333\n",
      "5 240.62348333333333\n",
      "6 220.0133\n",
      "7 217.76268333333334\n",
      "8 208.76611666666668\n",
      "SAVING WEIGHTS\n",
      "9 203.59366666666668\n",
      "10 201.29456666666667\n",
      "11 199.37578333333335\n",
      "12 193.6261\n",
      "13 189.80998333333332\n",
      "14 187.26255\n",
      "15 183.5046\n",
      "16 179.59755\n",
      "17 176.28836666666666\n",
      "18 173.6444\n",
      "SAVING WEIGHTS\n",
      "19 171.43688333333333\n",
      "20 168.90815\n",
      "21 166.74846666666667\n",
      "22 164.77723333333333\n",
      "23 162.59606666666667\n",
      "24 160.4056\n",
      "25 158.36896666666667\n",
      "26 156.36368333333334\n",
      "27 154.7274\n",
      "28 153.13781666666668\n",
      "SAVING WEIGHTS\n",
      "29 151.51111666666668\n",
      "30 150.24033333333333\n",
      "31 148.8809\n",
      "32 147.38868333333335\n",
      "33 146.23833333333334\n",
      "34 145.03426666666667\n",
      "35 143.79271666666668\n",
      "36 142.70578333333333\n",
      "37 141.50606666666667\n",
      "38 140.54203333333334\n",
      "SAVING WEIGHTS\n",
      "39 139.43669166666666\n",
      "40 138.4902\n",
      "41 137.611525\n",
      "42 136.68203333333332\n",
      "43 135.91669166666668\n",
      "44 134.75215833333334\n",
      "45 134.59810833333333\n",
      "46 133.77205833333332\n",
      "47 133.24875833333334\n",
      "48 131.75333333333333\n",
      "SAVING WEIGHTS\n",
      "49 131.4808\n",
      "50 130.27825\n",
      "51 129.62508333333332\n",
      "52 128.90924166666667\n",
      "53 128.08895\n",
      "54 127.63495\n",
      "55 126.57234166666667\n",
      "56 126.176325\n",
      "57 125.32868333333333\n",
      "58 124.76693333333333\n",
      "SAVING WEIGHTS\n",
      "59 124.05025\n",
      "60 123.55798333333334\n",
      "61 122.80833333333334\n",
      "62 122.30741666666667\n",
      "63 121.55951666666667\n",
      "64 121.18050833333334\n",
      "65 120.446025\n",
      "66 120.09533333333333\n",
      "67 119.60423333333334\n",
      "68 119.40658333333333\n",
      "SAVING WEIGHTS\n",
      "69 121.21104166666667\n",
      "70 132.11383333333333\n",
      "71 157.88601666666668\n",
      "72 135.18469166666668\n",
      "73 133.472275\n",
      "74 132.70375833333333\n",
      "75 130.65095833333334\n",
      "76 124.64233333333334\n",
      "77 130.2547\n",
      "78 123.63138333333333\n",
      "SAVING WEIGHTS\n",
      "79 123.77854166666667\n",
      "80 126.48515833333333\n",
      "81 121.285975\n",
      "82 121.96013333333333\n",
      "83 123.02994166666667\n",
      "84 120.49356666666667\n",
      "85 119.92416666666666\n",
      "86 120.397825\n",
      "87 119.97895\n",
      "88 117.76283333333333\n",
      "SAVING WEIGHTS\n",
      "89 118.23748333333333\n",
      "90 118.407975\n",
      "91 116.82064166666666\n",
      "92 116.09059166666667\n",
      "93 117.09038333333334\n",
      "94 115.63190833333333\n",
      "95 114.85355\n",
      "96 115.584675\n",
      "97 114.34871666666666\n",
      "98 113.93381666666667\n",
      "SAVING WEIGHTS\n",
      "99 114.12105\n"
     ]
    }
   ],
   "source": [
    "past_epochs = []\n",
    "past_loss_values = []\n",
    "\n",
    "epochs = 100\n",
    "previous_runnings = [[1,0,0] for i in range(4)]\n",
    "weights = [w1,w2,b1,b2]\n",
    "\n",
    "for i in range(epochs):\n",
    "    res, grad_w1, grad_w2, grad_b1, grad_b2, loss = run(features.T, w1, w2, b1, b2)\n",
    "    grads = [grad_w1, grad_w2, grad_b1, grad_b2]\n",
    "    for (j, (weight, previous_running, grad)) in enumerate(zip(weights, previous_runnings, grads)):\n",
    "        k, m, v = previous_running\n",
    "        previous_runnings[j] = adam(weight, grad, k, m, v)\n",
    "    if (i + 1) % 10 == 0:\n",
    "        print(\"SAVING WEIGHTS\")\n",
    "        pickle.dump(weights, open(\"weight_cross.p\", \"wb\"))\n",
    "    past_epochs.append(i)\n",
    "    past_loss_values.append(loss)\n",
    "    print(i, loss)"
   ]
  },
  {
   "cell_type": "code",
   "execution_count": 15,
   "metadata": {},
   "outputs": [
    {
     "data": {
      "image/png": "[encoded data removed]",
      "text/plain": [
       "<Figure size 432x288 with 1 Axes>"
      ]
     },
     "metadata": {},
     "output_type": "display_data"
    }
   ],
   "source": [
    "index = 7641\n",
    "img = test[index:index+1, :]\n",
    "\n",
    "plot_image(img)\n",
    "# test = run(features.T[:,1:108], w1, w2, b1, b2)"
   ]
  },
  {
   "cell_type": "code",
   "execution_count": 16,
   "metadata": {},
   "outputs": [
    {
     "data": {
      "image/png": "[encoded data removed]",
      "text/plain": [
       "<Figure size 432x288 with 1 Axes>"
      ]
     },
     "metadata": {},
     "output_type": "display_data"
    }
   ],
   "source": [
    "res_img, grad_w1, grad_w2, grad_b1, grad_b2, loss = run((img/255).T, w1, w2, b1, b2)\n",
    "plot_image(res_img*255)"
   ]
  },
  {
   "cell_type": "code",
   "execution_count": 10,
   "metadata": {},
   "outputs": [],
   "source": [
    "# pickle.dump(weights, open(\"weight.p\", \"wb\"))"
   ]
  }
 ],
 "metadata": {
  "kernelspec": {
   "display_name": "Python 3",
   "language": "python",
   "name": "python3"
  },
  "language_info": {
   "codemirror_mode": {
    "name": "ipython",
    "version": 3
   },
   "file_extension": ".py",
   "mimetype": "text/x-python",
   "name": "python",
   "nbconvert_exporter": "python",
   "pygments_lexer": "ipython3",
   "version": "3.6.5"
  }
 },
 "nbformat": 4,
 "nbformat_minor": 2
}
