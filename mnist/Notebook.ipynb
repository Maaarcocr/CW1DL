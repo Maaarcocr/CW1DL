{
 "cells": [
  {
   "cell_type": "code",
   "execution_count": 5,
   "metadata": {},
   "outputs": [],
   "source": [
    "import numpy as np\n",
    "import gzip\n",
    "import struct\n",
    "\n",
    "from matplotlib import pyplot as plt"
   ]
  },
  {
   "cell_type": "code",
   "execution_count": 6,
   "metadata": {},
   "outputs": [
    {
     "name": "stderr",
     "output_type": "stream",
     "text": [
      "C:\\Users\\marco\\AppData\\Roaming\\Python\\Python36\\site-packages\\ipykernel_launcher.py:5: DeprecationWarning: The binary mode of fromstring is deprecated, as it behaves surprisingly on unicode inputs. Use frombuffer instead\n",
      "  \"\"\"\n",
      "C:\\Users\\marco\\AppData\\Roaming\\Python\\Python36\\site-packages\\ipykernel_launcher.py:11: DeprecationWarning: The binary mode of fromstring is deprecated, as it behaves surprisingly on unicode inputs. Use frombuffer instead\n",
      "  # This is added back by InteractiveShellApp.init_path()\n"
     ]
    }
   ],
   "source": [
    "def get_labels():\n",
    "    with gzip.open(\"train_labels.gz\", 'rb') as f:\n",
    "        zero, data_type, dims = struct.unpack('>HBB', f.read(4))\n",
    "        shape = tuple(struct.unpack('>I', f.read(4))[0] for d in range(dims))\n",
    "        return np.fromstring(f.read(), dtype=np.uint8).reshape(shape)\n",
    "    \n",
    "def get_features(filename):\n",
    "    with gzip.open(filename, 'rb') as f:\n",
    "        zero, data_type, dims = struct.unpack('>HBB', f.read(4))\n",
    "        shape = tuple(struct.unpack('>I', f.read(4))[0] for d in range(dims))\n",
    "        return np.fromstring(f.read(), dtype=np.uint8).reshape(shape)\n",
    "    \n",
    "def plot_image(image):\n",
    "    plt.imshow(image.reshape((28,28)), cmap=\"gray\")\n",
    "    \n",
    "labels = get_labels()\n",
    "features = get_features(\"train_features.gz\").reshape((60000, 784))\n",
    "features = features / 255\n",
    "test = get_features(\"test_features.gz\").reshape((10000, 784))"
   ]
  },
  {
   "cell_type": "code",
   "execution_count": 16,
   "metadata": {},
   "outputs": [],
   "source": [
    "# def sigmoid(x):\n",
    "#     return 1 / (1 + np.exp(0 - x))\n",
    "def sigmoid(x):\n",
    "    return np.where(x >= 0, 1 / (1 + np.exp(-x)), np.exp(x) / (1 + np.exp(x)))\n",
    "# def sigmoid(x):\n",
    "#     return np.vectorize(lambda k: 1 / (1 + np.exp(-k)) if k >= 0 else np.exp(k) / (1 + np.exp(k)))(x)\n",
    "\n",
    "def d_sigmoid(x):\n",
    "    return sigmoid(x) * (1 - sigmoid(x))\n",
    "\n",
    "def relu(x):\n",
    "    return np.maximum(x,0)\n",
    "\n",
    "def d_relu(x):\n",
    "    _d_relu = lambda k: 1 if k > 0 else 0\n",
    "    return np.where(x > 0, np.full(np.shape(x), 1), np.full(np.shape(x), 0))\n",
    "\n",
    "# def leaky_relu(x, a=0.01):\n",
    "#     _leaky_relu = lambda k: k if k > 0 else a*k\n",
    "#     return np.vectorize(_leaky_relu)(x)\n",
    "\n",
    "# def d_leaky_relu(x, a=0.01):\n",
    "#     _d_leaky_relu = lambda k: 1 if k > 0 else a\n",
    "#     return np.vectorize(_d_leaky_relu)(x)\n",
    "\n",
    "# def tanh(x):\n",
    "#     return np.tanh(x)\n",
    "\n",
    "# def d_tanh(x):\n",
    "#     return 1.0 - np.tanh(x)**2\n",
    "\n",
    "def squared_loss(y, x):\n",
    "    return (y - x) ** 2 / 2\n",
    "\n",
    "def d_squared_loss(y, x):\n",
    "    return - (y - x)"
   ]
  },
  {
   "cell_type": "code",
   "execution_count": 17,
   "metadata": {},
   "outputs": [],
   "source": [
    "def run(xs, w_1, w_2, b_1, b_2):\n",
    "    \"\"\"\n",
    "    :param x: the matrix of input data, shape (N, D)\n",
    "    \"\"\"\n",
    "    N = xs.shape[1]\n",
    "    D = xs.shape[0]\n",
    "    f1 = w_1 @ xs\n",
    "    f2 = (b_1 + f1.T).T\n",
    "    f3 = relu(f2)\n",
    "    f4 = w_2 @ f3\n",
    "    f5 = (b_2 + f4.T).T\n",
    "    f6 = sigmoid(f5)\n",
    "    f7 = squared_loss(xs, f6)\n",
    "#     f8 = np.sum(f7, axis=0)\n",
    "    f9 = np.sum(f7)\n",
    "    f10 = f9 / N\n",
    "    \n",
    "    t10 = 1\n",
    "    t9 = 1 / N\n",
    "    t8 = np.full((N), 1 / N)\n",
    "    t7 = np.full((D, N), 1 / N)\n",
    "    t6 = d_squared_loss(xs, f6) * t7\n",
    "    t5 = (d_sigmoid(f5)) * t6\n",
    "    t4 = t5\n",
    "    tb2 = np.sum(t5, axis=1)\n",
    "\n",
    "    t3 = w_2.T @ t4\n",
    "    tw2 = (f3 @ t4.T).T\n",
    "\n",
    "    t2 = d_relu(f2) * t3\n",
    "\n",
    "    t1 = t2\n",
    "    tb1 = np.sum(t2, axis=1)\n",
    "    tw1 = t1 @ xs.T\n",
    "    return f6, tw1, tw2, tb1, tb2, f10"
   ]
  },
  {
   "cell_type": "code",
   "execution_count": 23,
   "metadata": {},
   "outputs": [],
   "source": [
    "def adam(weight, grad, k, m_prev, v_prev, b1=0.9, b2=0.999, l=0.0000000001, rate=0.01):\n",
    "    m = b1 * m_prev + (1 - b1)*grad\n",
    "    v = b2 * v_prev + (1 - b2)*(grad ** 2)\n",
    "    \n",
    "    m_hat = m / (1 - (b1 ** k))\n",
    "    v_hat = v / (1 - (b2 ** k))\n",
    "    weight -= (rate / (np.sqrt(v_hat) + l))*m_hat\n",
    "    return (k+1, m, v)\n"
   ]
  },
  {
   "cell_type": "code",
   "execution_count": 24,
   "metadata": {},
   "outputs": [],
   "source": [
    "def create_weight(shape):\n",
    "    stdv = 1. / np.sqrt(shape[-1])\n",
    "    return np.random.uniform(-stdv, stdv, shape)\n",
    "#     rand(Uniform(-stdv, stdv), dims...)\n",
    "    # rand(Normal(0,1), dims...)\n",
    "\n",
    "w1 = create_weight((30, 784))\n",
    "w2 = create_weight((784, 30))\n",
    "b1 = create_weight((30,))\n",
    "b2 = create_weight((784,))"
   ]
  },
  {
   "cell_type": "code",
   "execution_count": 34,
   "metadata": {},
   "outputs": [],
   "source": [
    "import torch\n",
    "\n",
    "w1_gpu = torch.from_numpy(w1)\n",
    "w2_gpu = torch.from_numpy(w2)\n",
    "b1_gpu = torch.from_numpy(b1)\n",
    "b2_gpu = torch.from_numpy(b2)\n",
    "\n",
    "features_gpu = torch.from_numpy(features.T)"
   ]
  },
  {
   "cell_type": "code",
   "execution_count": 35,
   "metadata": {
    "scrolled": true
   },
   "outputs": [
    {
     "ename": "AttributeError",
     "evalue": "'Tensor' object has no attribute 'T'",
     "output_type": "error",
     "traceback": [
      "\u001b[1;31m---------------------------------------------------------------------------\u001b[0m",
      "\u001b[1;31mAttributeError\u001b[0m                            Traceback (most recent call last)",
      "\u001b[1;32m<ipython-input-35-49b326a313b9>\u001b[0m in \u001b[0;36m<module>\u001b[1;34m()\u001b[0m\n\u001b[0;32m      7\u001b[0m \u001b[1;33m\u001b[0m\u001b[0m\n\u001b[0;32m      8\u001b[0m \u001b[1;32mfor\u001b[0m \u001b[0mi\u001b[0m \u001b[1;32min\u001b[0m \u001b[0mrange\u001b[0m\u001b[1;33m(\u001b[0m\u001b[0mepochs\u001b[0m\u001b[1;33m)\u001b[0m\u001b[1;33m:\u001b[0m\u001b[1;33m\u001b[0m\u001b[0m\n\u001b[1;32m----> 9\u001b[1;33m     \u001b[0mres\u001b[0m\u001b[1;33m,\u001b[0m \u001b[0mgrad_w1\u001b[0m\u001b[1;33m,\u001b[0m \u001b[0mgrad_w2\u001b[0m\u001b[1;33m,\u001b[0m \u001b[0mgrad_b1\u001b[0m\u001b[1;33m,\u001b[0m \u001b[0mgrad_b2\u001b[0m\u001b[1;33m,\u001b[0m \u001b[0mloss\u001b[0m \u001b[1;33m=\u001b[0m \u001b[0mrun\u001b[0m\u001b[1;33m(\u001b[0m\u001b[0mfeatures_gpu\u001b[0m\u001b[1;33m,\u001b[0m \u001b[0mw1_gpu\u001b[0m\u001b[1;33m,\u001b[0m \u001b[0mw2_gpu\u001b[0m\u001b[1;33m,\u001b[0m \u001b[0mb1_gpu\u001b[0m\u001b[1;33m,\u001b[0m \u001b[0mb2_gpu\u001b[0m\u001b[1;33m)\u001b[0m\u001b[1;33m\u001b[0m\u001b[0m\n\u001b[0m\u001b[0;32m     10\u001b[0m     \u001b[0mgrads\u001b[0m \u001b[1;33m=\u001b[0m \u001b[1;33m[\u001b[0m\u001b[0mgrad_w1\u001b[0m\u001b[1;33m,\u001b[0m \u001b[0mgrad_w2\u001b[0m\u001b[1;33m,\u001b[0m \u001b[0mgrad_b1\u001b[0m\u001b[1;33m,\u001b[0m \u001b[0mgrad_b2\u001b[0m\u001b[1;33m]\u001b[0m\u001b[1;33m\u001b[0m\u001b[0m\n\u001b[0;32m     11\u001b[0m     \u001b[1;32mfor\u001b[0m \u001b[1;33m(\u001b[0m\u001b[0mj\u001b[0m\u001b[1;33m,\u001b[0m \u001b[1;33m(\u001b[0m\u001b[0mweight\u001b[0m\u001b[1;33m,\u001b[0m \u001b[0mprevious_running\u001b[0m\u001b[1;33m,\u001b[0m \u001b[0mgrad\u001b[0m\u001b[1;33m)\u001b[0m\u001b[1;33m)\u001b[0m \u001b[1;32min\u001b[0m \u001b[0menumerate\u001b[0m\u001b[1;33m(\u001b[0m\u001b[0mzip\u001b[0m\u001b[1;33m(\u001b[0m\u001b[0mweights\u001b[0m\u001b[1;33m,\u001b[0m \u001b[0mprevious_runnings\u001b[0m\u001b[1;33m,\u001b[0m \u001b[0mgrads\u001b[0m\u001b[1;33m)\u001b[0m\u001b[1;33m)\u001b[0m\u001b[1;33m:\u001b[0m\u001b[1;33m\u001b[0m\u001b[0m\n",
      "\u001b[1;32m<ipython-input-17-3f957c8f0c66>\u001b[0m in \u001b[0;36mrun\u001b[1;34m(xs, w_1, w_2, b_1, b_2)\u001b[0m\n\u001b[0;32m      6\u001b[0m     \u001b[0mD\u001b[0m \u001b[1;33m=\u001b[0m \u001b[0mxs\u001b[0m\u001b[1;33m.\u001b[0m\u001b[0mshape\u001b[0m\u001b[1;33m[\u001b[0m\u001b[1;36m0\u001b[0m\u001b[1;33m]\u001b[0m\u001b[1;33m\u001b[0m\u001b[0m\n\u001b[0;32m      7\u001b[0m     \u001b[0mf1\u001b[0m \u001b[1;33m=\u001b[0m \u001b[0mw_1\u001b[0m \u001b[1;33m@\u001b[0m \u001b[0mxs\u001b[0m\u001b[1;33m\u001b[0m\u001b[0m\n\u001b[1;32m----> 8\u001b[1;33m     \u001b[0mf2\u001b[0m \u001b[1;33m=\u001b[0m \u001b[1;33m(\u001b[0m\u001b[0mb_1\u001b[0m \u001b[1;33m+\u001b[0m \u001b[0mf1\u001b[0m\u001b[1;33m.\u001b[0m\u001b[0mT\u001b[0m\u001b[1;33m)\u001b[0m\u001b[1;33m.\u001b[0m\u001b[0mT\u001b[0m\u001b[1;33m\u001b[0m\u001b[0m\n\u001b[0m\u001b[0;32m      9\u001b[0m     \u001b[0mf3\u001b[0m \u001b[1;33m=\u001b[0m \u001b[0mrelu\u001b[0m\u001b[1;33m(\u001b[0m\u001b[0mf2\u001b[0m\u001b[1;33m)\u001b[0m\u001b[1;33m\u001b[0m\u001b[0m\n\u001b[0;32m     10\u001b[0m     \u001b[0mf4\u001b[0m \u001b[1;33m=\u001b[0m \u001b[0mw_2\u001b[0m \u001b[1;33m@\u001b[0m \u001b[0mf3\u001b[0m\u001b[1;33m\u001b[0m\u001b[0m\n",
      "\u001b[1;31mAttributeError\u001b[0m: 'Tensor' object has no attribute 'T'"
     ]
    }
   ],
   "source": [
    "past_epochs = []\n",
    "past_loss_values = []\n",
    "\n",
    "epochs = 30\n",
    "previous_runnings = [torch.tensor([1,0,0]) for i in range(4)]\n",
    "weights = [w1_gpu,w2_gpu,b1_gpu,b2_gpu]\n",
    "\n",
    "for i in range(epochs):\n",
    "    res, grad_w1, grad_w2, grad_b1, grad_b2, loss = run(features_gpu, w1_gpu, w2_gpu, b1_gpu, b2_gpu)\n",
    "    grads = [grad_w1, grad_w2, grad_b1, grad_b2]\n",
    "    for (j, (weight, previous_running, grad)) in enumerate(zip(weights, previous_runnings, grads)):\n",
    "        k, m, v = previous_running\n",
    "        previous_runnings[j] = adam(weight, grad, k, m, v)\n",
    "    past_epochs.append(i)\n",
    "    past_loss_values.append(loss)\n",
    "    print(i, loss)"
   ]
  },
  {
   "cell_type": "code",
   "execution_count": 32,
   "metadata": {},
   "outputs": [
    {
     "data": {
      "image/png": "[encoded data removed]",
      "text/plain": [
       "<Figure size 432x288 with 1 Axes>"
      ]
     },
     "metadata": {},
     "output_type": "display_data"
    }
   ],
   "source": [
    "index = 9090\n",
    "\n",
    "img = test[index:index+1, :]\n",
    "\n",
    "plot_image(img)\n",
    "# test = run(features.T[:,1:108], w1, w2, b1, b2)"
   ]
  },
  {
   "cell_type": "code",
   "execution_count": 33,
   "metadata": {},
   "outputs": [
    {
     "data": {
      "image/png": "[encoded data removed]",
      "text/plain": [
       "<Figure size 432x288 with 1 Axes>"
      ]
     },
     "metadata": {},
     "output_type": "display_data"
    }
   ],
   "source": [
    "res_img, grad_w1, grad_w2, grad_b1, grad_b2, loss = run((img/255).T, w1, w2, b1, b2)\n",
    "plot_image(res_img*255)"
   ]
  },
  {
   "cell_type": "code",
   "execution_count": null,
   "metadata": {},
   "outputs": [],
   "source": []
  }
 ],
 "metadata": {
  "kernelspec": {
   "display_name": "Python 3",
   "language": "python",
   "name": "python3"
  },
  "language_info": {
   "codemirror_mode": {
    "name": "ipython",
    "version": 3
   },
   "file_extension": ".py",
   "mimetype": "text/x-python",
   "name": "python",
   "nbconvert_exporter": "python",
   "pygments_lexer": "ipython3",
   "version": "3.6.5"
  }
 },
 "nbformat": 4,
 "nbformat_minor": 2
}
